{
 "cells": [
  {
   "cell_type": "markdown",
   "id": "6ecf3cdb",
   "metadata": {},
   "source": [
    "# Using the random Module in Python\n",
    "\n",
    "The `random` module allows you to generate random numbers and make random choices in Python. This is useful for games, simulations, and more.\n",
    "\n",
    "## Importing the random Module\n",
    "\n",
    "You need to import the module before using it:\n",
    "\n",
    "```python\n",
    "import random\n",
    "```\n",
    "\n",
    "## Generating Random Numbers\n",
    "\n",
    "- **Random integer between two values (inclusive):**\n",
    "\n",
    "```python\n",
    "import random\n",
    "num = random.randint(1, 10)  # Random integer from 1 to 10\n",
    "print(num)\n",
    "```\n",
    "\n",
    "- **Random floating-point number between 0 and 1:**\n",
    "\n",
    "```python\n",
    "import random\n",
    "num = random.random()  # Random float from 0.0 to 1.0\n",
    "print(num)\n",
    "```\n",
    "\n",
    "## Random Choice from a List\n",
    "\n",
    "```python\n",
    "import random\n",
    "colors = [\"red\", \"green\", \"blue\"]\n",
    "choice = random.choice(colors)\n",
    "print(choice)\n",
    "```\n",
    "\n",
    "## Practice Problems\n",
    "\n",
    "1. Generate a random integer between 1 and 100 and print it.\n",
    "2. Ask the user for their name, then print a random greeting from a list of greetings.\n",
    "3. Simulate rolling two dice and print their values and total.\n",
    "4. Create a simple guessing game: the computer picks a random number between 1 and 10, and the user tries to guess it.\n",
    "5. Make a list of five fruits and print a random fruit from the"
   ]
  }
 ],
 "metadata": {
  "language_info": {
   "name": "python"
  }
 },
 "nbformat": 4,
 "nbformat_minor": 5
}
