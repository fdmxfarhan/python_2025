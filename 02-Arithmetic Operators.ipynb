{
 "cells": [
  {
   "cell_type": "markdown",
   "id": "20e8beb0",
   "metadata": {},
   "source": [
    "# Python Arithmetic Operators Tutorial\n",
    "\n",
    "In Python, arithmetic operators are used to perform basic mathematical operations. You can use them directly with numbers.\n",
    "\n",
    "---\n",
    "\n",
    "## Addition (`+`)\n",
    "\n",
    "Adds two numbers together.\n",
    "\n"
   ]
  },
  {
   "cell_type": "code",
   "execution_count": 1,
   "id": "0f3c6143",
   "metadata": {},
   "outputs": [
    {
     "name": "stdout",
     "output_type": "stream",
     "text": [
      "5\n"
     ]
    }
   ],
   "source": [
    "print(3 + 2)"
   ]
  },
  {
   "cell_type": "markdown",
   "id": "4da46917",
   "metadata": {},
   "source": [
    "## Subtraction (-)\n",
    "Subtracts the right number from the left number."
   ]
  },
  {
   "cell_type": "code",
   "execution_count": 2,
   "id": "d94334cf",
   "metadata": {},
   "outputs": [
    {
     "name": "stdout",
     "output_type": "stream",
     "text": [
      "3\n"
     ]
    }
   ],
   "source": [
    "print(7 - 4)"
   ]
  },
  {
   "cell_type": "markdown",
   "id": "c85f9ade",
   "metadata": {},
   "source": [
    "## Multiplication (*)\n",
    "Multiplies two numbers."
   ]
  },
  {
   "cell_type": "code",
   "execution_count": 3,
   "id": "5a117af6",
   "metadata": {},
   "outputs": [
    {
     "name": "stdout",
     "output_type": "stream",
     "text": [
      "30\n"
     ]
    }
   ],
   "source": [
    "print(6 * 5)"
   ]
  },
  {
   "cell_type": "markdown",
   "id": "28abe388",
   "metadata": {},
   "source": [
    "## Division (/)\n",
    "Divides the left number by the right number. The result is always a decimal (float)."
   ]
  },
  {
   "cell_type": "code",
   "execution_count": 4,
   "id": "a88e6d72",
   "metadata": {},
   "outputs": [
    {
     "name": "stdout",
     "output_type": "stream",
     "text": [
      "4.0\n"
     ]
    }
   ],
   "source": [
    "print(8 / 2)"
   ]
  },
  {
   "cell_type": "markdown",
   "id": "cf4930e6",
   "metadata": {},
   "source": [
    "## Floor Division (//)\n",
    "Divides and rounds down to the nearest whole number."
   ]
  },
  {
   "cell_type": "code",
   "execution_count": 5,
   "id": "538bbc04",
   "metadata": {},
   "outputs": [
    {
     "name": "stdout",
     "output_type": "stream",
     "text": [
      "4\n"
     ]
    }
   ],
   "source": [
    "print(9 // 2)"
   ]
  },
  {
   "cell_type": "markdown",
   "id": "9266ec76",
   "metadata": {},
   "source": [
    "## Modulus (%)\n",
    "Gives the remainder after division."
   ]
  },
  {
   "cell_type": "code",
   "execution_count": 6,
   "id": "c785a38f",
   "metadata": {},
   "outputs": [
    {
     "name": "stdout",
     "output_type": "stream",
     "text": [
      "1\n"
     ]
    }
   ],
   "source": [
    "print(10 % 3)"
   ]
  },
  {
   "cell_type": "markdown",
   "id": "6654b6ff",
   "metadata": {},
   "source": [
    "## Exponentiation (**)\n",
    "Raises the left number to the power of the right number."
   ]
  },
  {
   "cell_type": "code",
   "execution_count": 7,
   "id": "f21b5daf",
   "metadata": {},
   "outputs": [
    {
     "name": "stdout",
     "output_type": "stream",
     "text": [
      "8\n"
     ]
    }
   ],
   "source": [
    "print(2 ** 3)"
   ]
  },
  {
   "cell_type": "markdown",
   "id": "1775ac4a",
   "metadata": {},
   "source": [
    "---\n",
    "\n",
    "## Practice 1\n",
    "\n",
    "What will be printed by this code?\n",
    "\n",
    "```python\n",
    "print(4 * 3 + 2)"
   ]
  },
  {
   "cell_type": "markdown",
   "id": "2a4ea1d9",
   "metadata": {},
   "source": [
    "---\n",
    "\n",
    "## Practice 2\n",
    "\n",
    "What is the output of the following operation?\n",
    "\n",
    "```python\n",
    "print((10 - 2) // 3)"
   ]
  }
 ],
 "metadata": {
  "kernelspec": {
   "display_name": "Python 3",
   "language": "python",
   "name": "python3"
  },
  "language_info": {
   "codemirror_mode": {
    "name": "ipython",
    "version": 3
   },
   "file_extension": ".py",
   "mimetype": "text/x-python",
   "name": "python",
   "nbconvert_exporter": "python",
   "pygments_lexer": "ipython3",
   "version": "3.13.5"
  }
 },
 "nbformat": 4,
 "nbformat_minor": 5
}
