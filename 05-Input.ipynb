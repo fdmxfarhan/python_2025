{
 "cells": [
  {
   "cell_type": "markdown",
   "id": "5e5fddca",
   "metadata": {},
   "source": [
    "# Using the input() Function\n",
    "\n",
    "The `input()` function in Python allows you to prompt the user for input. The input is always returned as a string."
   ]
  },
  {
   "cell_type": "code",
   "execution_count": null,
   "id": "2100f243",
   "metadata": {},
   "outputs": [],
   "source": [
    "# Prompt the user for their name and display it\n",
    "name = input(\"Enter your name: \")\n",
    "print(\"Hello,\", name)"
   ]
  },
  {
   "cell_type": "markdown",
   "id": "c8404035",
   "metadata": {},
   "source": [
    "# Converting Input Types\n",
    "\n",
    "By default, `input()` returns a string. To work with numbers, you need to convert the input to the appropriate type, such as `int` or `float`."
   ]
  },
  {
   "cell_type": "code",
   "execution_count": null,
   "id": "8baf2e70",
   "metadata": {},
   "outputs": [],
   "source": [
    "# Prompt the user for their age and convert it to an integer\n",
    "age = int(input(\"Enter your age: \"))\n",
    "print(\"You are\", age, \"years old.\")"
   ]
  },
  {
   "cell_type": "markdown",
   "id": "918db6a5",
   "metadata": {},
   "source": [
    "# Handling Multiple Inputs\n",
    "\n",
    "You can accept multiple values from the user in a single line using `split()`. This is useful for reading several inputs at once."
   ]
  },
  {
   "cell_type": "code",
   "execution_count": null,
   "id": "97d44280",
   "metadata": {},
   "outputs": [],
   "source": [
    "# Prompt the user for two numbers separated by space and add them\n",
    "numbers = input(\"Enter two numbers separated by space: \")\n",
    "num1, num2 = numbers.split()\n",
    "num1 = int(num1)\n",
    "num2 = int(num2)\n",
    "print(\"The sum is:\", num1 + num2)"
   ]
  },
  {
   "cell_type": "markdown",
   "id": "b852b197",
   "metadata": {},
   "source": [
    "# Practice Problems\n",
    "\n",
    "1. **Ask the user for their first and last name, then print a greeting using both.**\n",
    "\n",
    "```python\n",
    "first_name = input(\"Enter your first name: \")\n",
    "last_name = input(\"Enter your last name: \")\n",
    "print(\"Hello,\", first_name, last_name + \"!\")\n",
    "```\n",
    "\n",
    "2. **Prompt the user to enter two numbers, then print their product.**\n",
    "\n",
    "```python\n",
    "num1 = int(input(\"Enter the first number: \"))\n",
    "num2 = int(input(\"Enter the second number: \"))\n",
    "print(\"The product is:\", num1 * num2)\n",
    "```\n",
    "\n",
    "3. **Ask the user for the length and width of a rectangle, then print the area and perimeter.**\n",
    "\n",
    "```python\n",
    "length = float(input(\"Enter the length of the rectangle: \"))\n",
    "width = float(input(\"Enter the width of the rectangle: \"))\n",
    "area = length * width\n",
    "perimeter = 2 * (length + width)\n",
    "print(\"Area:\", area)\n",
    "print(\"Perimeter:\", perimeter)\n",
    "```\n",
    "\n",
    "4. **Prompt the user for their birth year, then print their age (assume the current year is 2025).**\n",
    "\n",
    "```python\n",
    "birth_year = int(input(\"Enter your birth year: \"))\n",
    "age = 2025 - birth_year\n",
    "print(\"You are\", age, \"years old.\")\n",
    "```\n",
    "\n",
    "5. **Ask the user to enter a number, then print whether it is even or odd.**\n",
    "\n",
    "```python\n",
    "number = int(input(\"Enter a number: \"))\n",
    "if number % 2 == 0:\n",
    "    print(\"The number is even.\")\n",
    "else:"
   ]
  }
 ],
 "metadata": {
  "kernelspec": {
   "display_name": "Python 3",
   "language": "python",
   "name": "python3"
  },
  "language_info": {
   "codemirror_mode": {
    "name": "ipython",
    "version": 3
   },
   "file_extension": ".py",
   "mimetype": "text/x-python",
   "name": "python",
   "nbconvert_exporter": "python",
   "pygments_lexer": "ipython3",
   "version": "3.13.5"
  }
 },
 "nbformat": 4,
 "nbformat_minor": 5
}
