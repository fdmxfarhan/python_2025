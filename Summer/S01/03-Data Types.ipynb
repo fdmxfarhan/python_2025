{
 "cells": [
  {
   "cell_type": "markdown",
   "id": "4504056a",
   "metadata": {},
   "source": [
    "# Python Data Types: Numbers and Strings\n",
    "\n",
    "In Python, data types tell us what kind of value we are working with. The two most common data types for beginners are **numbers** and **strings**.\n",
    "\n",
    "---\n",
    "\n",
    "## Numbers\n",
    "\n",
    "Numbers are used to do math. There are two main types:\n",
    "\n",
    "- **Integers**: Whole numbers (no decimal point), like `5`, `-3`, or `100`.\n",
    "- **Floats**: Numbers with a decimal point, like `3.14`, `-0.5`, or `2.0`.\n",
    "\n",
    "**Examples:**\n",
    "\n",
    "```python\n",
    "print(7)      # Integer\n",
    "print(4.5)    # Float\n",
    "```\n",
    "\n",
    "## Strings\n",
    "Strings are used to store text. A string is a sequence of characters surrounded by quotes (' or \").\n",
    "\n",
    "**Examples:**\n",
    "```python\n",
    "print(\"Hello, world!\")\n",
    "print('Python is fun!')\n",
    "```\n",
    "You can use either single or double quotes, but they must match.\n",
    "\n"
   ]
  },
  {
   "cell_type": "markdown",
   "id": "0768fa63",
   "metadata": {},
   "source": [
    "## Checking the Type\n",
    "You can use the type() function to check the data type of a value."
   ]
  },
  {
   "cell_type": "code",
   "execution_count": 1,
   "id": "740ebf82",
   "metadata": {},
   "outputs": [
    {
     "name": "stdout",
     "output_type": "stream",
     "text": [
      "<class 'int'>\n",
      "<class 'float'>\n",
      "<class 'str'>\n"
     ]
    }
   ],
   "source": [
    "print(type(10))        # Output: <class 'int'>\n",
    "print(type(3.5))       # Output: <class 'float'>\n",
    "print(type(\"hello\"))   # Output: <class 'str'>"
   ]
  },
  {
   "cell_type": "markdown",
   "id": "a86a8dd7",
   "metadata": {},
   "source": [
    "---\n",
    "## Practice\n",
    "What will be printed by this code?\n",
    "```python\n",
    "print(type('123'))\n",
    "print(type(123))\n",
    "```"
   ]
  },
  {
   "cell_type": "markdown",
   "id": "05eb6e81",
   "metadata": {},
   "source": [
    "---\n",
    "## Practice 2\n",
    "What will be printed by this code?\n",
    "```python\n",
    "print(type(\"7.5\"))\n",
    "print(type(7.5))\n",
    "```"
   ]
  },
  {
   "cell_type": "markdown",
   "id": "46e740ad",
   "metadata": {},
   "source": [
    "---\n",
    "## Practice 3\n",
    "Which of the following is a string?\n",
    "```python\n",
    "A- \"42\"\n",
    "B- 42\n",
    "C- 3.14\n",
    "D- *Python*\n",
    "```"
   ]
  },
  {
   "cell_type": "markdown",
   "id": "408fa87d",
   "metadata": {},
   "source": [
    "---\n",
    "## Practice 4\n",
    "What will be printed by this code?\n",
    "```python\n",
    "print(\"5\" + \"7\")\n",
    "```"
   ]
  },
  {
   "cell_type": "markdown",
   "id": "ab95aebf",
   "metadata": {},
   "source": [
    "---\n",
    "## Practice 5\n",
    "What will be printed by this code?\n",
    "```python\n",
    "print(5 + 7)\n",
    "```"
   ]
  }
 ],
 "metadata": {
  "kernelspec": {
   "display_name": "Python 3",
   "language": "python",
   "name": "python3"
  },
  "language_info": {
   "codemirror_mode": {
    "name": "ipython",
    "version": 3
   },
   "file_extension": ".py",
   "mimetype": "text/x-python",
   "name": "python",
   "nbconvert_exporter": "python",
   "pygments_lexer": "ipython3",
   "version": "3.13.5"
  }
 },
 "nbformat": 4,
 "nbformat_minor": 5
}
