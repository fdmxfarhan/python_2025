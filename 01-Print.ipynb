{
 "cells": [
  {
   "cell_type": "markdown",
   "id": "180471f0",
   "metadata": {},
   "source": [
    "# Print function in python\n",
    "The print() function in Python is used to display output to the console. It is one of the most commonly used functions for debugging and interacting with users."
   ]
  },
  {
   "cell_type": "code",
   "execution_count": 1,
   "id": "fa8f6d5d",
   "metadata": {},
   "outputs": [
    {
     "name": "stdout",
     "output_type": "stream",
     "text": [
      "Hello, World!\n"
     ]
    }
   ],
   "source": [
    "print(\"Hello, World!\")"
   ]
  },
  {
   "cell_type": "markdown",
   "id": "d8b33f8e",
   "metadata": {},
   "source": [
    "# Printing Multiple Items\n",
    "You can print multiple items separated by commas. Python will insert a space between them by default."
   ]
  },
  {
   "cell_type": "code",
   "execution_count": 3,
   "id": "de8f12f0",
   "metadata": {},
   "outputs": [
    {
     "name": "stdout",
     "output_type": "stream",
     "text": [
      "Name: Alice Age: 30\n"
     ]
    }
   ],
   "source": [
    "print(\"Name:\", \"Alice\", \"Age:\", 30)"
   ]
  },
  {
   "cell_type": "markdown",
   "id": "20645033",
   "metadata": {},
   "source": [
    "# Customizing Separator (sep)\n",
    "You can change the separator between items using the sep parameter."
   ]
  },
  {
   "cell_type": "code",
   "execution_count": 4,
   "id": "6ff3405f",
   "metadata": {},
   "outputs": [
    {
     "name": "stdout",
     "output_type": "stream",
     "text": [
      "apple, banana, cherry\n"
     ]
    }
   ],
   "source": [
    "print(\"apple\", \"banana\", \"cherry\", sep=\", \")"
   ]
  },
  {
   "cell_type": "markdown",
   "id": "69ee0159",
   "metadata": {},
   "source": [
    "## Customizing End Character (end)\n",
    "By default, print() ends with a newline (\\n). You can change this with the end parameter."
   ]
  },
  {
   "cell_type": "code",
   "execution_count": 5,
   "id": "111648e5",
   "metadata": {},
   "outputs": [
    {
     "name": "stdout",
     "output_type": "stream",
     "text": [
      "Hello World!\n"
     ]
    }
   ],
   "source": [
    "print(\"Hello\", end=\" \")\n",
    "print(\"World!\")"
   ]
  },
  {
   "cell_type": "markdown",
   "id": "20119fad",
   "metadata": {},
   "source": [
    "# Printing Special Characters\n",
    "\n",
    "You can include special characters like newlines (`\\n`) and tabs (`\\t`) in your strings to format the output.\n",
    "\n",
    "Example:"
   ]
  },
  {
   "cell_type": "code",
   "execution_count": 6,
   "id": "3bc2a90b",
   "metadata": {},
   "outputs": [
    {
     "name": "stdout",
     "output_type": "stream",
     "text": [
      "Line 1\n",
      "Line 2\n",
      "Column1\tColumn2\n"
     ]
    }
   ],
   "source": [
    "print('Line 1\\nLine 2')\n",
    "print('Column1\\tColumn2')"
   ]
  }
 ],
 "metadata": {
  "kernelspec": {
   "display_name": "Python 3",
   "language": "python",
   "name": "python3"
  },
  "language_info": {
   "codemirror_mode": {
    "name": "ipython",
    "version": 3
   },
   "file_extension": ".py",
   "mimetype": "text/x-python",
   "name": "python",
   "nbconvert_exporter": "python",
   "pygments_lexer": "ipython3",
   "version": "3.13.5"
  }
 },
 "nbformat": 4,
 "nbformat_minor": 5
}
